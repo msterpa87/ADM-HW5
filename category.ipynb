{
 "cells": [
  {
   "cell_type": "code",
   "execution_count": 5,
   "metadata": {},
   "outputs": [
    {
     "name": "stdout",
     "output_type": "stream",
     "text": [
      "The autoreload extension is already loaded. To reload it, use:\n",
      "  %reload_ext autoreload\n"
     ]
    }
   ],
   "source": [
    "%load_ext autoreload\n",
    "%autoreload 2\n",
    "import random\n",
    "from collections import defaultdict"
   ]
  },
  {
   "cell_type": "code",
   "execution_count": 8,
   "metadata": {},
   "outputs": [],
   "source": [
    "category_dict = dict()\n",
    "\n",
    "with open(\"wiki-topcats-categories.txt\", \"r\") as f:\n",
    "    for line in f.readlines():\n",
    "        category, pages = line.strip().split(';')\n",
    "        category = category.split(':')[1]\n",
    "        pages = list(map(int, pages.split()))\n",
    "        category_dict[category] = pages"
   ]
  },
  {
   "cell_type": "code",
   "execution_count": 31,
   "metadata": {},
   "outputs": [],
   "source": [
    "pages_dict = defaultdict(list)\n",
    "\n",
    "with open(\"wiki-topcats-categories.txt\", \"r\") as f:\n",
    "    for line in f.readlines():\n",
    "        category, pages = line.strip().split(';')\n",
    "        category = category.split(':')[1]\n",
    "        pages = list(map(int, pages.split()))\n",
    "        \n",
    "        for page in pages:\n",
    "            pages_dict[page].append(category)"
   ]
  },
  {
   "cell_type": "code",
   "execution_count": 32,
   "metadata": {},
   "outputs": [],
   "source": [
    "single_category_dict = defaultdict(list)\n",
    "\n",
    "for page, category_list in pages_dict.items():\n",
    "    if len(category_list) == 1:\n",
    "        single_category_dict[category_list[0]].append(page)\n",
    "        continue\n",
    "    \n",
    "    # multiple categories, breaking tie u.a.r.\n",
    "    random_category = random.choice(category_list)\n",
    "    single_category_dict[random_category].append(page)"
   ]
  },
  {
   "cell_type": "code",
   "execution_count": 35,
   "metadata": {},
   "outputs": [],
   "source": [
    "with open(\"reduced_categories.txt\", \"w\") as f:\n",
    "    for category, pages in single_category_dict.items():\n",
    "        line = \"{}: {}\\n\".format(category, \" \".join(list(map(str, pages))))\n",
    "        f.write(line)"
   ]
  },
  {
   "cell_type": "code",
   "execution_count": null,
   "metadata": {},
   "outputs": [],
   "source": []
  }
 ],
 "metadata": {
  "kernelspec": {
   "display_name": "Python 3",
   "language": "python",
   "name": "python3"
  },
  "language_info": {
   "codemirror_mode": {
    "name": "ipython",
    "version": 3
   },
   "file_extension": ".py",
   "mimetype": "text/x-python",
   "name": "python",
   "nbconvert_exporter": "python",
   "pygments_lexer": "ipython3",
   "version": "3.7.2"
  }
 },
 "nbformat": 4,
 "nbformat_minor": 2
}
