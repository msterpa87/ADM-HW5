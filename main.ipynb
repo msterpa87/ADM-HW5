{
 "cells": [
  {
   "cell_type": "markdown",
   "metadata": {},
   "source": [
    "![title](wikipedia-logo.webp)"
   ]
  },
  {
   "cell_type": "markdown",
   "metadata": {},
   "source": [
    "In this project we will do some analysis on the wikipedia hyperlink graph, first of all let's create the graph using the edge list contained in the file `wikigraph_reduced.csv`."
   ]
  },
  {
   "cell_type": "code",
   "execution_count": 133,
   "metadata": {},
   "outputs": [],
   "source": [
    "from graph import *\n",
    "\n",
    "g = Graph()\n",
    "g.create_from_file()"
   ]
  },
  {
   "cell_type": "markdown",
   "metadata": {},
   "source": [
    "Then we load the categories obtained through a preprocessing of the original file `wiki-topcats-categories.txt` where each page belong to different categories is reduced to a single category picked u.a.r. This can be seen as labels of each node, and will then be used for further analysis."
   ]
  },
  {
   "cell_type": "code",
   "execution_count": 32,
   "metadata": {},
   "outputs": [],
   "source": [
    "# Run this cell to create the file `reduced_categories.txt`\n",
    "from utils import categories_preprocess\n",
    "\n",
    "categories_preprocess()"
   ]
  },
  {
   "cell_type": "code",
   "execution_count": 134,
   "metadata": {},
   "outputs": [],
   "source": [
    "# this loads the labels into the graph\n",
    "g.load_categories()"
   ]
  },
  {
   "cell_type": "markdown",
   "metadata": {},
   "source": [
    "### RQ 1\n",
    "\n",
    "We first explore a few properties of the graph."
   ]
  },
  {
   "cell_type": "code",
   "execution_count": 7,
   "metadata": {},
   "outputs": [
    {
     "name": "stdout",
     "output_type": "stream",
     "text": [
      "Graph directed? True\n"
     ]
    }
   ],
   "source": [
    "print(\"Graph directed?\", g.is_directed())"
   ]
  },
  {
   "cell_type": "code",
   "execution_count": 8,
   "metadata": {},
   "outputs": [
    {
     "name": "stdout",
     "output_type": "stream",
     "text": [
      "Number of nodes: 98343\n"
     ]
    }
   ],
   "source": [
    "print(\"Number of nodes:\", g.node_count())"
   ]
  },
  {
   "cell_type": "code",
   "execution_count": 9,
   "metadata": {},
   "outputs": [
    {
     "name": "stdout",
     "output_type": "stream",
     "text": [
      "Number of hyperlinks between pages: 483094\n"
     ]
    }
   ],
   "source": [
    "print(\"Number of hyperlinks between pages:\", g.edge_count())"
   ]
  },
  {
   "cell_type": "code",
   "execution_count": 10,
   "metadata": {},
   "outputs": [
    {
     "name": "stdout",
     "output_type": "stream",
     "text": [
      "Average number of links: 4.9\n"
     ]
    }
   ],
   "source": [
    "print(\"Average number of outlinks: {:.1f}\".format(g.avg_num_links()))"
   ]
  },
  {
   "cell_type": "code",
   "execution_count": 11,
   "metadata": {},
   "outputs": [
    {
     "name": "stdout",
     "output_type": "stream",
     "text": [
      "Graph density: 4.9951571365597335e-05\n"
     ]
    }
   ],
   "source": [
    "print(\"Graph density:\", g.density())"
   ]
  },
  {
   "cell_type": "markdown",
   "metadata": {},
   "source": [
    "The graph is definitely sparse as on average a node only has 5 neighbours, a very small number compared to the total number of nodes as can also be seen by the very small value of density.\n",
    "\n",
    "The graph a typical behaviour of social graphs, its (out)degree distribution follows a power law as can be seen by the log-log graph below."
   ]
  },
  {
   "cell_type": "code",
   "execution_count": 13,
   "metadata": {},
   "outputs": [
    {
     "data": {
      "image/png": "[encoded data removed]",
      "text/plain": [
       "<Figure size 432x288 with 1 Axes>"
      ]
     },
     "metadata": {},
     "output_type": "display_data"
    }
   ],
   "source": [
    "g.plot_degree_distribution()"
   ]
  },
  {
   "cell_type": "markdown",
   "metadata": {},
   "source": [
    "### RQ 2\n",
    "\n",
    "To know which node is reachable starting from a specific root within a certain number of steps (distance) we can use a standard Breadth First Search (BFS) with an early stop condition when the maximum distance of interested is reached."
   ]
  },
  {
   "cell_type": "code",
   "execution_count": 26,
   "metadata": {},
   "outputs": [
    {
     "name": "stdout",
     "output_type": "stream",
     "text": [
      "Starting from 173 with degree 11\n",
      "Found 35251 nodes at dist <= 5\n",
      "Just a few:  [174, 146870, 1059766, 1059906, 1060905]\n"
     ]
    }
   ],
   "source": [
    "root = 173  # starting node label\n",
    "dist = 5  # distance\n",
    "print(\"Starting from {} with degree {}\".format(root, g.out_degree(root)))\n",
    "reachable_nodes = g.truncated_bfs(root, dist)\n",
    "print(\"Found {} nodes at dist <= {}\".format(len(reachable_nodes), dist))\n",
    "print(\"Just a few: \", reachable_nodes[:5])"
   ]
  },
  {
   "cell_type": "markdown",
   "metadata": {},
   "source": [
    "### RQ 3\n",
    "\n",
    "We're now interested to find the number of clicks (distance) required to reach a group of pages within a category starting from its central node.\n",
    "\n",
    "Let's first find a few category for which the central node has a non-zero degree."
   ]
  },
  {
   "cell_type": "code",
   "execution_count": 72,
   "metadata": {},
   "outputs": [
    {
     "name": "stdout",
     "output_type": "stream",
     "text": [
      "1 has a central node of non-zero degree\n",
      "6934 has a central node of non-zero degree\n",
      "23 has a central node of non-zero degree\n",
      "2905 has a central node of non-zero degree\n",
      "7 has a central node of non-zero degree\n",
      "9 has a central node of non-zero degree\n",
      "6880 has a central node of non-zero degree\n"
     ]
    }
   ],
   "source": [
    "for cat_str in g.categories_list()[:10]:\n",
    "    cat_id = g.get_category_id(cat_str)\n",
    "    central_node = g.central_node(cat_id)\n",
    "    if g.out_degree(central_node) > 0:\n",
    "        print(\"{} has a central node of non-zero degree\".format(cat_id))"
   ]
  },
  {
   "cell_type": "markdown",
   "metadata": {},
   "source": [
    "These are the nodes reachable within 5 clicks from the central node."
   ]
  },
  {
   "cell_type": "code",
   "execution_count": 86,
   "metadata": {},
   "outputs": [
    {
     "name": "stdout",
     "output_type": "stream",
     "text": [
      "Found 54926 nodes at distance 6 from 82393\n"
     ]
    }
   ],
   "source": [
    "cat_id = 7\n",
    "root = g.central_node(cat_id)\n",
    "dist = 6\n",
    "reachable_nodes = g.truncated_bfs(root, dist)\n",
    "print(\"Found {} nodes at distance {} from {}\".format(len(reachable_nodes),\n",
    "                                                     dist, root))"
   ]
  },
  {
   "cell_type": "markdown",
   "metadata": {},
   "source": [
    "Let's now reduce these to the ones in the same category of the central node."
   ]
  },
  {
   "cell_type": "code",
   "execution_count": 87,
   "metadata": {},
   "outputs": [
    {
     "name": "stdout",
     "output_type": "stream",
     "text": [
      "Reduced to 410 in category 7\n"
     ]
    }
   ],
   "source": [
    "nodes_in_cat = list(filter(lambda x: g.get_node_category(x) == cat_id,\n",
    "                           reachable_nodes))\n",
    "print(\"Reduced to {} in category {}\".format(len(nodes_in_cat), cat_id))"
   ]
  },
  {
   "cell_type": "markdown",
   "metadata": {},
   "source": [
    "Now let's take a few random nodes among those and see how much it takes to reach them. We repeat this a few times to show different results for different samples."
   ]
  },
  {
   "cell_type": "code",
   "execution_count": 114,
   "metadata": {},
   "outputs": [
    {
     "name": "stdout",
     "output_type": "stream",
     "text": [
      "Nodes reached within 6 clicks.\n",
      "Nodes reached within 5 clicks.\n",
      "Nodes reached within 5 clicks.\n",
      "Nodes reached within 6 clicks.\n",
      "Nodes reached within 5 clicks.\n",
      "Nodes reached within 6 clicks.\n",
      "Nodes reached within 6 clicks.\n",
      "Nodes reached within 6 clicks.\n",
      "Nodes reached within 6 clicks.\n",
      "Nodes reached within 5 clicks.\n"
     ]
    }
   ],
   "source": [
    "from random import sample\n",
    "\n",
    "size = 10\n",
    "n_sim = 10\n",
    "\n",
    "for _ in range(n_sim):\n",
    "    sample_nodes = sample(nodes_in_cat, size)\n",
    "    dist = g.get_category_distance(cat_id, sample_nodes)\n",
    "    print(\"Nodes reached within {} clicks.\".format(dist))"
   ]
  },
  {
   "cell_type": "markdown",
   "metadata": {},
   "source": [
    "As expected 6 clicks will always be enough but sometimes it takes less, as in fact here we stop when we reach the target nodes while before we were stopping at a specific distance."
   ]
  },
  {
   "cell_type": "markdown",
   "metadata": {},
   "source": [
    "### RQ 4"
   ]
  },
  {
   "cell_type": "code",
   "execution_count": null,
   "metadata": {},
   "outputs": [],
   "source": [
    "# run this cell to print pair of categories that result in decently sidzed subgraphs\n",
    "cat_size = 1000\n",
    "n_edges = 100\n",
    "small_categories = list(map(g.get_category_id, g.get_small_categories(size=1000)))\n",
    "\n",
    "for cat_id_1 in small_categories:\n",
    "    for cat_id_2 in small_categories:\n",
    "        m = g.induced_subgraph(cat_id_1, cat_id_2).edge_count()\n",
    "        if m > n_edges:\n",
    "            print(\"E({},{}) = {}\".format(cat_id_1, cat_id_2, m))\n",
    "\n",
    "# this is a sample output obtained\n",
    "# E(0,1347) = 172\n",
    "# E(0,1903) = 158\n",
    "# E(0,2384) = 876\n",
    "# E(0,2408) = 150"
   ]
  },
  {
   "cell_type": "markdown",
   "metadata": {},
   "source": [
    "Let's use categories 0 and 2384 that result in a decently large subgraph.\n",
    "\n",
    "We're then interested in figuring out the size of the minimum cut to disconnect two given nodes in the subgraph."
   ]
  },
  {
   "cell_type": "code",
   "execution_count": 205,
   "metadata": {},
   "outputs": [
    {
     "name": "stdout",
     "output_type": "stream",
     "text": [
      "Mincut(540708, 540709) = 2\n",
      "Mincut(536666, 536667) = 2\n",
      "Mincut(553237, 553239) = 2\n",
      "Mincut(543146, 543147) = 2\n",
      "Mincut(537149, 537150) = 3\n",
      "Mincut(139860, 139861) = 2\n",
      "Mincut(535278, 541428) = 2\n",
      "Mincut(1780477, 1780478) = 2\n",
      "Mincut(539608, 539644) = 2\n",
      "Mincut(536000, 536001) = 2\n",
      "Mincut(542239, 542241) = 2\n",
      "Mincut(536270, 536271) = 2\n",
      "Mincut(538393, 538394) = 2\n",
      "Mincut(540546, 538527) = 1\n",
      "Mincut(536483, 536484) = 2\n",
      "Mincut(538552, 538553) = 2\n"
     ]
    }
   ],
   "source": [
    "subgraph = g.induced_subgraph(0,2384)\n",
    "node_list = list(subgraph.node_list)\n",
    "for source, target in zip(node_list[:-1], node_list[1:]):\n",
    "    size = subgraph.mincut_between_nodes(source, target)\n",
    "    if size > 0: # we only print mincut for connected nodes\n",
    "        print(\"Mincut({}, {}) = {}\".format(source, target, size))"
   ]
  },
  {
   "cell_type": "markdown",
   "metadata": {},
   "source": [
    "The algorithm essentially works by running a modified Depth First Search, where everytime the target is reached the whole recursion path is marked as \"visited\", since any other possible path to target that has the first few edges in common with the one just found doesn't contain edges of the mincut, we can always cut 1 of the first few common edges to disconnect both paths.\n",
    "\n",
    "With this in mind it's reasonable that in this subgraph there aren't many disjoint paths between two nodes from different categories.\n",
    "\n",
    "To see this we can plot it using networkx."
   ]
  },
  {
   "cell_type": "code",
   "execution_count": 214,
   "metadata": {},
   "outputs": [
    {
     "data": {
      "image/png": "[encoded data removed]",
      "text/plain": [
       "<Figure size 432x288 with 1 Axes>"
      ]
     },
     "metadata": {},
     "output_type": "display_data"
    }
   ],
   "source": [
    "import networkx as nx\n",
    "\n",
    "nx_g = nx.DiGraph()\n",
    "nx_g.add_edges_from(subgraph.edge_list)\n",
    "nx.draw(nx_g, node_size=0.5)"
   ]
  },
  {
   "cell_type": "markdown",
   "metadata": {},
   "source": [
    "### RQ 5\n",
    "\n",
    "Next we're interested in the task of sorting categories according to their distance from a specified one, where the distance is computed as the median of distances between all pairs of nodes from the source category to target out. To solve this we create a distance vector from each node of the source category using a BFS, saving distances along the visit, and then computing the median of the distances within each category.\n",
    "\n",
    "This is not an easy task on a graph of this size, though being sparse we expect the running time of the BFS to be feasible."
   ]
  },
  {
   "cell_type": "code",
   "execution_count": 216,
   "metadata": {},
   "outputs": [
    {
     "data": {
      "text/plain": [
       "['Buprestoidea',\n",
       " \"Alumni_of_St_John's_College,_Cambridge\",\n",
       " 'English_Anglican_priests',\n",
       " 'British_television_presenters',\n",
       " 'Living_people',\n",
       " 'People_from_Worcester',\n",
       " '16th-century_English_people',\n",
       " 'English_footballers',\n",
       " 'Yeovil_Town_F.C._players',\n",
       " 'Worcester_City_F.C._players']"
      ]
     },
     "execution_count": 216,
     "metadata": {},
     "output_type": "execute_result"
    }
   ],
   "source": [
    "g.categories_list()[:10]"
   ]
  },
  {
   "cell_type": "markdown",
   "metadata": {},
   "source": [
    "Let's pick a category and see the top ten results"
   ]
  },
  {
   "cell_type": "code",
   "execution_count": 218,
   "metadata": {},
   "outputs": [
    {
     "name": "stderr",
     "output_type": "stream",
     "text": [
      "100%|██████████████████████████████████████████████████████| 1296/1296 [01:13<00:00, 17.68it/s]\n"
     ]
    },
    {
     "data": {
      "text/plain": [
       "['Christian_writers',\n",
       " 'Albanian_politicians',\n",
       " 'Human_rights_organizations',\n",
       " 'Prime_Ministers_of_France',\n",
       " 'Christian_organizations',\n",
       " 'Peterborough_United_F.C._players',\n",
       " 'Members_of_the_Scottish_Parliament_20032007',\n",
       " 'Skin_conditions_resulting_from_physical_factors',\n",
       " 'Article_Feedback_Pilot',\n",
       " 'Developmental_biology']"
      ]
     },
     "execution_count": 218,
     "metadata": {},
     "output_type": "execute_result"
    }
   ],
   "source": [
    "cat_str = 'English_footballers'\n",
    "cat_id = g.get_category_id(cat_str)\n",
    "closest_list = g.get_closest_categories(cat_id)\n",
    "closest_list[:10]"
   ]
  },
  {
   "cell_type": "markdown",
   "metadata": {},
   "source": [
    "### RQ 6\n",
    "\n",
    "Finally we look at the categories sorted according to their PageRank ranking, to do so we build the adjacency matrix and apply the usual damping factor of 0.85 to compute the normalized matrix M used to iterate over a random initialized vector that will eventually represent the PageRank of each page."
   ]
  },
  {
   "cell_type": "code",
   "execution_count": 220,
   "metadata": {},
   "outputs": [
    {
     "data": {
      "text/plain": [
       "['Living_people',\n",
       " 'English-language_films',\n",
       " 'American_films',\n",
       " 'American_film_actors',\n",
       " 'American_television_actors',\n",
       " 'Debut_albums',\n",
       " 'Harvard_University_alumni',\n",
       " 'Year_of_birth_missing',\n",
       " 'Year_of_death_missing',\n",
       " 'Black-and-white_films']"
      ]
     },
     "execution_count": 220,
     "metadata": {},
     "output_type": "execute_result"
    }
   ],
   "source": [
    "cat_by_pr = g.sort_category_by_pagerank()\n",
    "cat_by_pr[:10] # top 10 pages"
   ]
  },
  {
   "cell_type": "code",
   "execution_count": null,
   "metadata": {},
   "outputs": [],
   "source": []
  }
 ],
 "metadata": {
  "kernelspec": {
   "display_name": "Python 3",
   "language": "python",
   "name": "python3"
  },
  "language_info": {
   "codemirror_mode": {
    "name": "ipython",
    "version": 3
   },
   "file_extension": ".py",
   "mimetype": "text/x-python",
   "name": "python",
   "nbconvert_exporter": "python",
   "pygments_lexer": "ipython3",
   "version": "3.7.2"
  }
 },
 "nbformat": 4,
 "nbformat_minor": 2
}
