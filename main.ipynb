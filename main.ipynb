{
 "cells": [
  {
   "cell_type": "code",
   "execution_count": 1,
   "metadata": {},
   "outputs": [],
   "source": [
    "%matplotlib inline\n",
    "%load_ext autoreload\n",
    "%autoreload 2"
   ]
  },
  {
   "cell_type": "code",
   "execution_count": 3,
   "metadata": {},
   "outputs": [],
   "source": [
    "from graph import *"
   ]
  },
  {
   "cell_type": "markdown",
   "metadata": {},
   "source": []
  },
  {
   "cell_type": "code",
   "execution_count": 6,
   "metadata": {},
   "outputs": [],
   "source": [
    "g = Graph()\n",
    "g.create_from_file()"
   ]
  },
  {
   "cell_type": "markdown",
   "metadata": {},
   "source": [
    "### RQ 1\n",
    "\n",
    "We first explore a few properties of the graph."
   ]
  },
  {
   "cell_type": "code",
   "execution_count": 7,
   "metadata": {},
   "outputs": [
    {
     "name": "stdout",
     "output_type": "stream",
     "text": [
      "Graph directed? True\n"
     ]
    }
   ],
   "source": [
    "print(\"Graph directed?\", g.is_directed())"
   ]
  },
  {
   "cell_type": "code",
   "execution_count": 8,
   "metadata": {},
   "outputs": [
    {
     "name": "stdout",
     "output_type": "stream",
     "text": [
      "Number of nodes: 98343\n"
     ]
    }
   ],
   "source": [
    "print(\"Number of nodes:\", g.node_count())"
   ]
  },
  {
   "cell_type": "code",
   "execution_count": 9,
   "metadata": {},
   "outputs": [
    {
     "name": "stdout",
     "output_type": "stream",
     "text": [
      "Number of hyperlinks between pages: 483094\n"
     ]
    }
   ],
   "source": [
    "print(\"Number of hyperlinks between pages:\", g.edge_count())"
   ]
  },
  {
   "cell_type": "code",
   "execution_count": 10,
   "metadata": {},
   "outputs": [
    {
     "name": "stdout",
     "output_type": "stream",
     "text": [
      "Average number of links: 4.9\n"
     ]
    }
   ],
   "source": [
    "print(\"Average number of outlinks: {:.1f}\".format(g.avg_num_links()))"
   ]
  },
  {
   "cell_type": "code",
   "execution_count": 11,
   "metadata": {},
   "outputs": [
    {
     "name": "stdout",
     "output_type": "stream",
     "text": [
      "Graph density: 4.9951571365597335e-05\n"
     ]
    }
   ],
   "source": [
    "print(\"Graph density:\", g.density())"
   ]
  },
  {
   "cell_type": "markdown",
   "metadata": {},
   "source": [
    "The graph is definitely sparse as on average a node only has 5 neighbours, a very small number compared to the total number of nodes as can also be seen by the very small value of density.\n",
    "\n",
    "The graph a typical behaviour of social graphs, its (out)degree distribution follows a power law as can be seen by the log-log graph below."
   ]
  },
  {
   "cell_type": "code",
   "execution_count": 13,
   "metadata": {},
   "outputs": [
    {
     "data": {
      "image/png": "[encoded data removed]",
      "text/plain": [
       "<Figure size 432x288 with 1 Axes>"
      ]
     },
     "metadata": {},
     "output_type": "display_data"
    }
   ],
   "source": [
    "g.plot_degree_distribution()"
   ]
  },
  {
   "cell_type": "markdown",
   "metadata": {},
   "source": [
    "### RQ 2\n",
    "\n",
    "To know which node is reachable starting from a specific root within a certain number of steps (distance) we can use a standard Breadth First Search (BFS) with an early stop condition when the maximum distance of interested is reached."
   ]
  },
  {
   "cell_type": "code",
   "execution_count": 23,
   "metadata": {},
   "outputs": [
    {
     "name": "stdout",
     "output_type": "stream",
     "text": [
      "There are 35251 nodes at dist <= 5 from 173\n",
      "Just a few:  [174, 146870, 1059766, 1059906, 1060905]\n"
     ]
    }
   ],
   "source": [
    "root = 173\n",
    "dist = 5\n",
    "reachable_nodes = g.truncated_bfs(root, dist)\n",
    "print(\"Starting from {}\")\n",
    "print(\"There are {} nodes at dist <= {} from {}\".format(len(reachable_nodes),\n",
    "                                                       dist, root))\n",
    "print(\"Just a few: \", reachable_nodes[:5])"
   ]
  },
  {
   "cell_type": "code",
   "execution_count": null,
   "metadata": {},
   "outputs": [],
   "source": []
  },
  {
   "cell_type": "code",
   "execution_count": null,
   "metadata": {},
   "outputs": [],
   "source": []
  }
 ],
 "metadata": {
  "kernelspec": {
   "display_name": "Python 3",
   "language": "python",
   "name": "python3"
  },
  "language_info": {
   "codemirror_mode": {
    "name": "ipython",
    "version": 3
   },
   "file_extension": ".py",
   "mimetype": "text/x-python",
   "name": "python",
   "nbconvert_exporter": "python",
   "pygments_lexer": "ipython3",
   "version": "3.7.2"
  }
 },
 "nbformat": 4,
 "nbformat_minor": 2
}
