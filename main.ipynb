{
 "cells": [
  {
   "cell_type": "markdown",
   "metadata": {},
   "source": [
    "![title](wikipedia-logo.webp)"
   ]
  },
  {
   "cell_type": "markdown",
   "metadata": {},
   "source": [
    "In this project we will do some analysis on the wikipedia hyperlink graph, first of all let's create the graph using the edge list contained in the file `wikigraph_reduced.csv`."
   ]
  },
  {
   "cell_type": "code",
   "execution_count": 1,
   "metadata": {},
   "outputs": [],
   "source": [
    "from graph import *\n",
    "\n",
    "g = Graph()\n",
    "g.create_from_file()"
   ]
  },
  {
   "cell_type": "markdown",
   "metadata": {},
   "source": [
    "Then we load the categories obtained through a preprocessing of the original file `wiki-topcats-categories.txt` where each page belong to different categories is reduced to a single category picked u.a.r. This can be seen as labels of each node, and will then be used for further analysis."
   ]
  },
  {
   "cell_type": "code",
   "execution_count": 2,
   "metadata": {},
   "outputs": [],
   "source": [
    "# Run this cell to create the file `reduced_categories.txt`\n",
    "from utils import categories_preprocess\n",
    "\n",
    "categories_preprocess()"
   ]
  },
  {
   "cell_type": "code",
   "execution_count": 3,
   "metadata": {},
   "outputs": [],
   "source": [
    "# this loads the labels into the graph\n",
    "g.load_categories()"
   ]
  },
  {
   "cell_type": "markdown",
   "metadata": {},
   "source": [
    "### RQ 1\n",
    "\n",
    "We first explore a few properties of the graph."
   ]
  },
  {
   "cell_type": "code",
   "execution_count": 4,
   "metadata": {},
   "outputs": [
    {
     "name": "stdout",
     "output_type": "stream",
     "text": [
      "Graph directed? True\n"
     ]
    }
   ],
   "source": [
    "print(\"Graph directed?\", g.is_directed())"
   ]
  },
  {
   "cell_type": "code",
   "execution_count": 5,
   "metadata": {},
   "outputs": [
    {
     "name": "stdout",
     "output_type": "stream",
     "text": [
      "Number of nodes: 98343\n"
     ]
    }
   ],
   "source": [
    "print(\"Number of nodes:\", g.node_count())"
   ]
  },
  {
   "cell_type": "code",
   "execution_count": 6,
   "metadata": {},
   "outputs": [
    {
     "name": "stdout",
     "output_type": "stream",
     "text": [
      "Number of hyperlinks between pages: 483094\n"
     ]
    }
   ],
   "source": [
    "print(\"Number of hyperlinks between pages:\", g.edge_count())"
   ]
  },
  {
   "cell_type": "code",
   "execution_count": 7,
   "metadata": {},
   "outputs": [
    {
     "name": "stdout",
     "output_type": "stream",
     "text": [
      "Average number of outlinks: 4.9\n"
     ]
    }
   ],
   "source": [
    "print(\"Average number of outlinks: {:.1f}\".format(g.avg_num_links()))"
   ]
  },
  {
   "cell_type": "code",
   "execution_count": 8,
   "metadata": {},
   "outputs": [
    {
     "name": "stdout",
     "output_type": "stream",
     "text": [
      "Graph density: 4.9951571365597335e-05\n"
     ]
    }
   ],
   "source": [
    "print(\"Graph density:\", g.density())"
   ]
  },
  {
   "cell_type": "markdown",
   "metadata": {},
   "source": [
    "The graph is definitely sparse as on average a node only has 5 neighbours, a very small number compared to the total number of nodes as can also be seen by the very small value of density.\n",
    "\n",
    "The graph a typical behaviour of social graphs, its (out)degree distribution follows a power law as can be seen by the log-log graph below."
   ]
  },
  {
   "cell_type": "code",
   "execution_count": 9,
   "metadata": {},
   "outputs": [
    {
     "data": {
      "image/png": "[encoded data removed]",
      "text/plain": [
       "<Figure size 432x288 with 1 Axes>"
      ]
     },
     "metadata": {
      "needs_background": "light"
     },
     "output_type": "display_data"
    }
   ],
   "source": [
    "g.plot_degree_distribution()"
   ]
  },
  {
   "cell_type": "markdown",
   "metadata": {},
   "source": [
    "### RQ 2\n",
    "\n",
    "To know which node is reachable starting from a specific root within a certain number of steps (distance) we can use a standard Breadth First Search (BFS) with an early stop condition when the maximum distance of interested is reached."
   ]
  },
  {
   "cell_type": "code",
   "execution_count": 10,
   "metadata": {},
   "outputs": [
    {
     "name": "stdout",
     "output_type": "stream",
     "text": [
      "Starting from 173 with degree 11\n",
      "Found 35251 nodes at dist <= 5\n",
      "Just a few:  [174, 146870, 1059766, 1059906, 1060905]\n"
     ]
    }
   ],
   "source": [
    "root = 173  # starting node label\n",
    "dist = 5  # distance\n",
    "print(\"Starting from {} with degree {}\".format(root, g.out_degree(root)))\n",
    "reachable_nodes = g.truncated_bfs(root, dist)\n",
    "print(\"Found {} nodes at dist <= {}\".format(len(reachable_nodes), dist))\n",
    "print(\"Just a few: \", reachable_nodes[:5])"
   ]
  },
  {
   "cell_type": "markdown",
   "metadata": {},
   "source": [
    "### RQ 3\n",
    "\n",
    "We're now interested to find the number of clicks (distance) required to reach a group of pages within a category starting from its central node.\n",
    "\n",
    "Let's first find a few category for which the central node has a non-zero degree."
   ]
  },
  {
   "cell_type": "code",
   "execution_count": 11,
   "metadata": {},
   "outputs": [
    {
     "name": "stdout",
     "output_type": "stream",
     "text": [
      "2 has a central node of non-zero degree\n",
      "3 has a central node of non-zero degree\n",
      "5 has a central node of non-zero degree\n",
      "6 has a central node of non-zero degree\n",
      "7 has a central node of non-zero degree\n",
      "8 has a central node of non-zero degree\n",
      "9 has a central node of non-zero degree\n"
     ]
    }
   ],
   "source": [
    "for cat_str in g.categories_list()[:10]:\n",
    "    cat_id = g.get_category_id(cat_str)\n",
    "    central_node = g.central_node(cat_id)\n",
    "    if g.out_degree(central_node) > 0:\n",
    "        print(\"{} has a central node of non-zero degree\".format(cat_id))"
   ]
  },
  {
   "cell_type": "markdown",
   "metadata": {},
   "source": [
    "These are the nodes reachable within 5 clicks from the central node."
   ]
  },
  {
   "cell_type": "code",
   "execution_count": 19,
   "metadata": {},
   "outputs": [
    {
     "name": "stdout",
     "output_type": "stream",
     "text": [
      "Found 51296 nodes at distance 6 from 1062622\n"
     ]
    }
   ],
   "source": [
    "cat_id = 9\n",
    "root = g.central_node(cat_id)\n",
    "dist = 6\n",
    "reachable_nodes = g.truncated_bfs(root, dist)\n",
    "print(\"Found {} nodes at distance {} from {}\".format(len(reachable_nodes),\n",
    "                                                     dist, root))"
   ]
  },
  {
   "cell_type": "markdown",
   "metadata": {},
   "source": [
    "Let's now reduce these to the ones in the same category of the central node."
   ]
  },
  {
   "cell_type": "code",
   "execution_count": 20,
   "metadata": {},
   "outputs": [
    {
     "name": "stdout",
     "output_type": "stream",
     "text": [
      "Reduced to 2588 in category 9\n"
     ]
    }
   ],
   "source": [
    "nodes_in_cat = list(filter(lambda x: g.get_node_category(x) == cat_id,\n",
    "                           reachable_nodes))\n",
    "print(\"Reduced to {} in category {}\".format(len(nodes_in_cat), cat_id))"
   ]
  },
  {
   "cell_type": "markdown",
   "metadata": {},
   "source": [
    "Now let's take a few random nodes among those and see how much it takes to reach them. We repeat this a few times to show different results for different samples."
   ]
  },
  {
   "cell_type": "code",
   "execution_count": 21,
   "metadata": {},
   "outputs": [
    {
     "name": "stdout",
     "output_type": "stream",
     "text": [
      "Nodes reached within 5 clicks.\n",
      "Nodes reached within 4 clicks.\n",
      "Nodes reached within 6 clicks.\n",
      "Nodes reached within 6 clicks.\n",
      "Nodes reached within 5 clicks.\n",
      "Nodes reached within 6 clicks.\n",
      "Nodes reached within 6 clicks.\n",
      "Nodes reached within 6 clicks.\n",
      "Nodes reached within 6 clicks.\n",
      "Nodes reached within 5 clicks.\n"
     ]
    }
   ],
   "source": [
    "from random import sample\n",
    "\n",
    "size = 10\n",
    "n_sim = 10\n",
    "\n",
    "for _ in range(n_sim):\n",
    "    sample_nodes = sample(nodes_in_cat, size)\n",
    "    dist = g.get_category_distance(cat_id, sample_nodes)\n",
    "    if dist < 0:\n",
    "        print(\"Target nodes could not be reached.\")\n",
    "    else:\n",
    "        print(\"Nodes reached within {} clicks.\".format(dist))"
   ]
  },
  {
   "cell_type": "markdown",
   "metadata": {},
   "source": [
    "As expected 6 clicks will always be enough but sometimes it takes less, as in fact here we stop when we reach the target nodes while before we were stopping at a specific distance."
   ]
  },
  {
   "cell_type": "markdown",
   "metadata": {},
   "source": [
    "### RQ 4"
   ]
  },
  {
   "cell_type": "code",
   "execution_count": 23,
   "metadata": {},
   "outputs": [],
   "source": [
    "# uncomment the following lines to print pair of categories\n",
    "# that result in decently sidzed subgraphs\n",
    "# cat_size = 1000\n",
    "# n_edges = 100\n",
    "# small_categories = list(map(g.get_category_id, g.get_small_categories(size=1000)))\n",
    "\n",
    "# count = 0\n",
    "# for cat_id_1 in small_categories:\n",
    "#     for cat_id_2 in small_categories:\n",
    "#         m = g.induced_subgraph(cat_id_1, cat_id_2).edge_count()\n",
    "#         if m > n_edges:\n",
    "#             print(\"E({},{}) = {}\".format(cat_id_1, cat_id_2, m))\n",
    "\n",
    "# this is a sample output obtained\n",
    "# E(0,1166) = 106\n",
    "# E(0,2954) = 808\n",
    "# E(0,2955) = 186\n",
    "# E(0,3120) = 122\n",
    "# E(0,3977) = 194"
   ]
  },
  {
   "cell_type": "markdown",
   "metadata": {},
   "source": [
    "Let's use categories 0 and 2384 that result in a decently large subgraph.\n",
    "\n",
    "We're then interested in figuring out the size of the minimum cut to disconnect two given nodes in the subgraph."
   ]
  },
  {
   "cell_type": "code",
   "execution_count": 24,
   "metadata": {},
   "outputs": [
    {
     "name": "stdout",
     "output_type": "stream",
     "text": [
      "Mincut(540720, 540721) = 1\n",
      "Mincut(536628, 536630) = 3\n",
      "Mincut(536635, 536636) = 1\n",
      "Mincut(542865, 542866) = 2\n",
      "Mincut(542937, 542939) = 2\n",
      "Mincut(537126, 537128) = 1\n",
      "Mincut(543281, 543282) = 2\n",
      "Mincut(139860, 139861) = 2\n",
      "Mincut(541292, 541293) = 2\n",
      "Mincut(535279, 535280) = 2\n",
      "Mincut(1573864, 535538) = 2\n",
      "Mincut(537600, 537605) = 3\n",
      "Mincut(543765, 543766) = 2\n",
      "Mincut(541797, 541798) = 1\n",
      "Mincut(435302, 435304) = 2\n",
      "Mincut(537977, 537978) = 2\n",
      "Mincut(544246, 544247) = 2\n",
      "Mincut(75328, 75329) = 2\n",
      "Mincut(542336, 542341) = 2\n",
      "Mincut(538319, 538320) = 2\n",
      "Mincut(538460, 538462) = 1\n",
      "Mincut(538555, 538556) = 2\n",
      "Mincut(165828, 165829) = 2\n"
     ]
    }
   ],
   "source": [
    "subgraph = g.induced_subgraph(0, 2954)\n",
    "node_list = list(subgraph.node_list)\n",
    "for source, target in zip(node_list[:-1], node_list[1:]):\n",
    "    size = subgraph.mincut_between_nodes(source, target)\n",
    "    if size > 0: # we only print mincut for connected nodes\n",
    "        print(\"Mincut({}, {}) = {}\".format(source, target, size))"
   ]
  },
  {
   "cell_type": "markdown",
   "metadata": {},
   "source": [
    "The algorithm essentially works by running a modified Depth First Search, where everytime the target is reached the whole recursion path is marked as \"visited\", since any other possible path to target that has the first few edges in common with the one just found doesn't contain edges of the mincut, we can always cut 1 of the first few common edges to disconnect both paths.\n",
    "\n",
    "With this in mind it's reasonable that in this subgraph there aren't many disjoint paths between two nodes from different categories.\n",
    "\n",
    "We can see in fact how the graph has very few edges by plotting it using networkx."
   ]
  },
  {
   "cell_type": "code",
   "execution_count": 27,
   "metadata": {},
   "outputs": [
    {
     "data": {
      "image/png": "[encoded data removed]",
      "text/plain": [
       "<Figure size 432x288 with 1 Axes>"
      ]
     },
     "metadata": {},
     "output_type": "display_data"
    }
   ],
   "source": [
    "import networkx as nx\n",
    "\n",
    "nx_g = nx.DiGraph()\n",
    "nx_g.add_edges_from(subgraph.edge_list)\n",
    "nx.draw(nx_g, node_size=0.5)"
   ]
  },
  {
   "cell_type": "markdown",
   "metadata": {},
   "source": [
    "### RQ 5\n",
    "\n",
    "Next we're interested in the task of sorting categories according to their distance from a specified one, where the distance is computed as the median of distances between all pairs of nodes from the source category to target out. To solve this we create a distance vector from each node of the source category using a BFS, saving distances along the visit, and then computing the median of the distances within each category.\n",
    "\n",
    "This is not an easy task on a graph of this size, though being sparse we expect the running time of the BFS to be feasible."
   ]
  },
  {
   "cell_type": "code",
   "execution_count": 28,
   "metadata": {},
   "outputs": [
    {
     "data": {
      "text/plain": [
       "['Buprestoidea',\n",
       " 'Insect_families',\n",
       " 'Year_of_birth_missing',\n",
       " 'Alumni_of_New_College,_Oxford',\n",
       " 'British_radio_personalities',\n",
       " 'People_from_Worcester',\n",
       " 'Cheltenham_Town_F.C._players',\n",
       " 'Yeovil_Town_F.C._players',\n",
       " 'Worcester_City_F.C._players',\n",
       " 'Living_people']"
      ]
     },
     "execution_count": 28,
     "metadata": {},
     "output_type": "execute_result"
    }
   ],
   "source": [
    "g.categories_list()[:10]"
   ]
  },
  {
   "cell_type": "markdown",
   "metadata": {},
   "source": [
    "Let's pick a category and see the top ten results"
   ]
  },
  {
   "cell_type": "code",
   "execution_count": 29,
   "metadata": {},
   "outputs": [
    {
     "name": "stderr",
     "output_type": "stream",
     "text": [
      "100%|██████████████████████████████████████████████████████| 1326/1326 [01:06<00:00, 19.84it/s]\n"
     ]
    },
    {
     "data": {
      "text/plain": [
       "['Scottish_Premier_League_players',\n",
       " 'Czechoslovak_footballers',\n",
       " 'People_from_Cape_Town',\n",
       " 'FIFA_Confederations_Cup-winning_players',\n",
       " 'Signal_transduction',\n",
       " 'Association_football_midfielders',\n",
       " 'Major_League_Baseball_third_basemen',\n",
       " 'Presidents_of_the_Institution_of_Civil_Engineers',\n",
       " 'People_of_the_Tudor_period',\n",
       " 'Olympic_gold_medalists_for_Great_Britain']"
      ]
     },
     "execution_count": 29,
     "metadata": {},
     "output_type": "execute_result"
    }
   ],
   "source": [
    "cat_str = 'English_footballers'\n",
    "cat_id = g.get_category_id(cat_str)\n",
    "closest_list = g.get_closest_categories(cat_id)\n",
    "closest_list[:10]"
   ]
  },
  {
   "cell_type": "markdown",
   "metadata": {},
   "source": [
    "### RQ 6\n",
    "\n",
    "Finally we look at the categories sorted according to their PageRank ranking, to do so we build the adjacency matrix and apply the usual damping factor of 0.85 to compute the normalized matrix M used to iterate over a random initialized vector that will eventually represent the PageRank of each page."
   ]
  },
  {
   "cell_type": "code",
   "execution_count": 30,
   "metadata": {},
   "outputs": [
    {
     "data": {
      "text/plain": [
       "['Living_people',\n",
       " 'English-language_films',\n",
       " 'American_films',\n",
       " 'American_film_actors',\n",
       " 'American_television_actors',\n",
       " 'Year_of_birth_missing',\n",
       " 'Harvard_University_alumni',\n",
       " 'Year_of_death_missing',\n",
       " 'Debut_albums',\n",
       " 'Black-and-white_films']"
      ]
     },
     "execution_count": 30,
     "metadata": {},
     "output_type": "execute_result"
    }
   ],
   "source": [
    "cat_by_pr = g.sort_category_by_pagerank()\n",
    "cat_by_pr[:10] # top 10 pages"
   ]
  },
  {
   "cell_type": "code",
   "execution_count": null,
   "metadata": {},
   "outputs": [],
   "source": []
  }
 ],
 "metadata": {
  "kernelspec": {
   "display_name": "Python 3",
   "language": "python",
   "name": "python3"
  },
  "language_info": {
   "codemirror_mode": {
    "name": "ipython",
    "version": 3
   },
   "file_extension": ".py",
   "mimetype": "text/x-python",
   "name": "python",
   "nbconvert_exporter": "python",
   "pygments_lexer": "ipython3",
   "version": "3.7.2"
  }
 },
 "nbformat": 4,
 "nbformat_minor": 2
}
